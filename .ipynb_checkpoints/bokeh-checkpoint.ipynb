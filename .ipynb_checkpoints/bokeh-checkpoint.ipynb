{
 "cells": [
  {
   "cell_type": "code",
   "execution_count": 10,
   "id": "8423a648-386a-4278-a2d3-a7be90517582",
   "metadata": {},
   "outputs": [],
   "source": [
    "# BOKEH\n",
    "\n",
    "\n",
    "# Question 3\n",
    "\n",
    "from bokeh.plotting import figure, show\n",
    "import pandas as pd\n",
    "\n",
    "\n",
    "\n",
    "\n",
    "\n",
    "\n",
    "# Fruit data\n",
    "fruit_data = {'Fruit': ['Apple', 'Banana', 'Orange', 'Grapes', 'Mango'],\n",
    "              'Count': [10, 20, 30, 40, 50]}\n",
    "df_fruits = pd.DataFrame(fruit_data)\n",
    "\n",
    "# Create a new plot\n",
    "p = figure(x_range=df_fruits['Fruit'], title=\"Fruit Counts\", toolbar_location=None, tools=\"\")\n",
    "\n",
    "# Add a bar renderer\n",
    "p.vbar(x='Fruit', top='Count', width=0.9, source=df_fruits, legend_field=\"Fruit\", line_color='white')\n",
    "\n",
    "\n",
    "p.xgrid.grid_line_color = None\n",
    "p.axis.minor_tick_line_color = None\n",
    "p.outline_line_color = None\n",
    "p.xaxis.axis_label = 'Fruit'\n",
    "p.yaxis.axis_label = 'Count'\n",
    "p.y_range.start = 0\n",
    "\n",
    "# Show the plot\n",
    "show(p)\n"
   ]
  },
  {
   "cell_type": "code",
   "execution_count": 11,
   "id": "b251232f-8763-43c8-a04a-dc8acbf2ff70",
   "metadata": {},
   "outputs": [],
   "source": [
    "# Question 1\n",
    "\n",
    "\n",
    "import numpy as np\n",
    "\n",
    "\n",
    "\n",
    "# Data for sine wave\n",
    "x = np.linspace(0, 10, 100)\n",
    "y = np.sin(x)\n",
    "\n",
    "# Create a new plot with title and axis labels\n",
    "p = figure(title=\"Sine Wave\", x_axis_label='x', y_axis_label='sin(x)')\n",
    "\n",
    "# Add a line renderer with legend and line thickness\n",
    "p.line(x, y, legend_label=\"Sine Wave\", line_width=2)\n",
    "\n",
    "# Show the plot\n",
    "show(p)\n"
   ]
  },
  {
   "cell_type": "code",
   "execution_count": 12,
   "id": "ec8ba7a8-264d-4838-af0d-f303c9fbff9d",
   "metadata": {},
   "outputs": [],
   "source": [
    "# 2\n",
    "\n",
    "\n",
    "# Generate random data\n",
    "np.random.seed(30)\n",
    "data = {\n",
    "    'x': np.random.uniform(0, 100, 50),\n",
    "    'y': np.random.uniform(0, 100, 50),\n",
    "    'sizes': np.random.uniform(5, 50, 50),\n",
    "    'colors': np.random.choice(['red', 'green', 'blue', 'orange'], 50)\n",
    "}\n",
    "df = pd.DataFrame(data)\n",
    "\n",
    "# Create a new plot\n",
    "p = figure(title=\"Scatter Plot with Variable Sizes and Colors\", x_axis_label='x', y_axis_label='y')\n",
    "\n",
    "# Add a scatter renderer with variable sizes and colors\n",
    "p.scatter('x', 'y', size='sizes', color='colors', source=df, legend_field='colors', fill_alpha=0.6)\n",
    "\n",
    "# Show the plot\n",
    "show(p)\n"
   ]
  },
  {
   "cell_type": "code",
   "execution_count": null,
   "id": "e17ae291-00d2-43b2-9902-10a581710d3d",
   "metadata": {},
   "outputs": [],
   "source": []
  }
 ],
 "metadata": {
  "kernelspec": {
   "display_name": "Python 3 (ipykernel)",
   "language": "python",
   "name": "python3"
  },
  "language_info": {
   "codemirror_mode": {
    "name": "ipython",
    "version": 3
   },
   "file_extension": ".py",
   "mimetype": "text/x-python",
   "name": "python",
   "nbconvert_exporter": "python",
   "pygments_lexer": "ipython3",
   "version": "3.10.8"
  }
 },
 "nbformat": 4,
 "nbformat_minor": 5
}
